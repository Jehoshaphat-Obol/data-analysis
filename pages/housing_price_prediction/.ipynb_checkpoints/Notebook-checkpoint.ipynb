{
 "cells": [
  {
   "cell_type": "markdown",
   "id": "9c722f39",
   "metadata": {},
   "source": [
    "# Housing Price Prediction\n",
    "\n",
    "## Using Linear Regression\n",
    "\n",
    "### About the dataset\n",
    "\n",
    "**Dataset source:** [kaggle.com](https://www.kaggle.com/datasets/harishkumardatalab/housing-price-prediction) \n",
    "\n",
    ">This dataset provides key features for predicting house prices, including area, bedrooms, bathrooms, stories, amenities like air conditioning and parking, and information on furnishing status. It enables analysis and modelling to understand the factors impacting house prices and develop accurate predictions in real estate markets.\n",
    "\n",
    "![dataset cover image](./images/dataset-cover.jpeg)\n",
    "\n",
    "This dataset provides comprehensive information for house price prediction, with 13 column names:\n",
    "\n",
    "1. **Price:** The price of the house.\n",
    "2. **Area:** The total area of the house in square feet.\n",
    "3. **Bedrooms:** The number of bedrooms in the house.\n",
    "4. **Bathrooms:** The number of bathrooms in the house.\n",
    "5. **Stories:** The number of stories in the house.\n",
    "6. **Mainroad:** Whether the house is connected to the main road (Yes/No).\n",
    "7. **Guestroom:** Whether the house has a guest room (Yes/No).\n",
    "8. **Basement:** Whether the house has a basement (Yes/No).\n",
    "9. **Hot water heating:** Whether the house has a hot water heating system (Yes/No).\n",
    "10. **Airconditioning:** Whether the house has an air conditioning system (Yes/No).\n",
    "11. **Parking:** The number of parking spaces available within the house.\n",
    "12. **Prefarea:** Whether the house is located in a preferred area (Yes/No).\n",
    "13. **Furnishing status:** The furnishing status of the house (Fully Furnished, Semi-Furnished, Unfurnished)."
   ]
  },
  {
   "cell_type": "code",
   "execution_count": 5,
   "id": "0815ba77",
   "metadata": {},
   "outputs": [],
   "source": [
    "# import all the required libraries\n",
    "import pandas as pd\n",
    "import numpy as np\n",
    "import matplotlib.pyplot as plt\n",
    "import seaborn as sns\n",
    "import pickle\n",
    "import xgboost as xgb\n",
    "from sklearn.tree import DecisionTreeRegressor\n",
    "from sklearn.ensemble import RandomForestRegressor\n",
    "from sklearn.model_selection import train_test_split as split\n",
    "from sklearn.preprocessing import LabelEncoder\n",
    "%matplotlib inline"
   ]
  },
  {
   "cell_type": "code",
   "execution_count": null,
   "id": "59add3bc",
   "metadata": {},
   "outputs": [],
   "source": [
    "# Read the csv file\n",
    "\n",
    "df = pd.read_csv('./dataset/Housing.csv')\n",
    "df"
   ]
  },
  {
   "cell_type": "markdown",
   "id": "62a3ccf3",
   "metadata": {},
   "source": [
    "### Data Cleaning and Preprocessing"
   ]
  },
  {
   "cell_type": "markdown",
   "id": "be0c04f8",
   "metadata": {},
   "source": [
    "Get general information about the dataset"
   ]
  },
  {
   "cell_type": "code",
   "execution_count": 2,
   "id": "011d3405",
   "metadata": {},
   "outputs": [
    {
     "ename": "NameError",
     "evalue": "name 'df' is not defined",
     "output_type": "error",
     "traceback": [
      "\u001b[0;31m---------------------------------------------------------------------------\u001b[0m",
      "\u001b[0;31mNameError\u001b[0m                                 Traceback (most recent call last)",
      "Cell \u001b[0;32mIn[2], line 1\u001b[0m\n\u001b[0;32m----> 1\u001b[0m df\u001b[38;5;241m.\u001b[39minfo()\n",
      "\u001b[0;31mNameError\u001b[0m: name 'df' is not defined"
     ]
    }
   ],
   "source": [
    "df.info()"
   ]
  },
  {
   "cell_type": "markdown",
   "id": "b3d657c1",
   "metadata": {},
   "source": [
    "From the above description, there are no null values in any of the column however there are some columns with object Dtype. These columns are to be converted into numerical data i.e the columns are to be encoded. This is because machine learning models are basically mathematical models meaning that at their core level they can only process numerical data.\n",
    "before encoding the dataset a copy is take for our own future use in visulization"
   ]
  },
  {
   "cell_type": "markdown",
   "id": "e4381dc4",
   "metadata": {},
   "source": [
    ">For the categorical data, count plots are plotted to get a good distribution of data and as it may help avoid overfitting when processing data"
   ]
  },
  {
   "cell_type": "code",
   "execution_count": null,
   "id": "65ec32ae",
   "metadata": {},
   "outputs": [],
   "source": [
    "fig, ax = plt.subplots(6, 2, figsize=(10,22))\n",
    "sns.countplot(x='mainroad', data=df, ax=ax[0,0])\n",
    "sns.countplot(x='guestroom', data=df, ax=ax[0, 1])\n",
    "sns.countplot(x='basement', data=df, ax=ax[1,0])\n",
    "sns.countplot(x='hotwaterheating', data=df, ax=ax[1,1])\n",
    "sns.countplot(x='parking', data=df,ax=ax[2,0])\n",
    "sns.countplot(x='prefarea', data=df, ax=ax[2,1])\n",
    "sns.countplot(x='furnishingstatus', data=df, ax=ax[3,0])\n",
    "sns.countplot(x='bedrooms',data=df, ax=ax[3,1])\n",
    "sns.countplot(x='stories',data=df, ax=ax[4,0])\n",
    "sns.countplot(x='airconditioning',data=df, ax=ax[4,1])\n",
    "sns.countplot(x='bathrooms',data=df, ax=ax[5,0])\n",
    "fig.savefig('./images/countplot.png')"
   ]
  },
  {
   "cell_type": "markdown",
   "id": "3408d98a",
   "metadata": {},
   "source": [
    "Okay now plot the scatter plot and see how these categories are distributed for each numerical feature starting with area"
   ]
  },
  {
   "cell_type": "markdown",
   "id": "889d062b",
   "metadata": {},
   "source": [
    "#### Insight\n",
    "\n",
    "All the features in the dataset are categorical with the execption for area and price. Since machine learning models  are built upon numerical values. The categorical values are to be encoded.\n",
    ">From our one hot encoding shall be used assign numerical values by adding more columns for and assign 1 or 0 value to features that do not have any order to their category for example, mainroad, guestroom, basement, hotwaterheating, prefarea and airconditioning\n",
    "\n",
    ">For a feature like furnishingstatus LabelEncoder shall be used because it has some order into it. i.e unfurnished<semi-furnished<furnished. and features like parking, bedrooms, stories and bathrooms they shall be left as they are because they already have numerical value into them"
   ]
  },
  {
   "cell_type": "markdown",
   "id": "ef14e5ab",
   "metadata": {},
   "source": [
    "### Encode the data"
   ]
  },
  {
   "cell_type": "code",
   "execution_count": null,
   "id": "cd927e69",
   "metadata": {},
   "outputs": [],
   "source": [
    "ordinal = df[['furnishingstatus']]\n",
    "le = LabelEncoder()\n",
    "ordinal['furnishingstatus'] = le.fit_transform(ordinal)\n",
    "ordinal"
   ]
  },
  {
   "cell_type": "code",
   "execution_count": null,
   "id": "2b4d50e9",
   "metadata": {},
   "outputs": [],
   "source": [
    "nominal = df[['mainroad', 'guestroom', 'basement', 'hotwaterheating', 'prefarea','airconditioning']]\n",
    "nominal = pd.get_dummies(nominal, drop_first=True)\n",
    "nominal"
   ]
  },
  {
   "cell_type": "code",
   "execution_count": null,
   "id": "18fcb554",
   "metadata": {},
   "outputs": [],
   "source": [
    "ordinal = pd.concat([ordinal,df[['parking','bedrooms','stories','bathrooms']]], axis=1)\n",
    "ordinal"
   ]
  },
  {
   "cell_type": "code",
   "execution_count": null,
   "id": "2241ce4c",
   "metadata": {},
   "outputs": [],
   "source": [
    "X = pd.concat([ordinal,nominal],axis=1)\n",
    "X"
   ]
  },
  {
   "cell_type": "code",
   "execution_count": null,
   "id": "bfbc415d",
   "metadata": {},
   "outputs": [],
   "source": [
    "Y = df.price\n",
    "Y"
   ]
  },
  {
   "cell_type": "markdown",
   "id": "a6942c89",
   "metadata": {},
   "source": [
    "### Split, Train, Test, Evaluate and Optimize\n",
    "\n",
    "**split the dataset**"
   ]
  },
  {
   "cell_type": "code",
   "execution_count": null,
   "id": "6cc64374",
   "metadata": {},
   "outputs": [],
   "source": [
    "x_train, x_test, y_train, y_test = split(X, Y, test_size=0.2)"
   ]
  },
  {
   "cell_type": "code",
   "execution_count": null,
   "id": "c01ea855",
   "metadata": {},
   "outputs": [],
   "source": [
    "# create the models\n",
    "XGB = xgb.XGBRegressor()\n",
    "decisiontree = DecisionTreeRegressor()\n",
    "randomforest = RandomForestRegressor()"
   ]
  },
  {
   "cell_type": "code",
   "execution_count": null,
   "id": "ec234404",
   "metadata": {},
   "outputs": [],
   "source": [
    "# train the models\n",
    "XGB.fit(x_train, y_train)\n",
    "decisiontree.fit(x_train, y_train)\n",
    "randomforest.fit(x_train, y_train)"
   ]
  },
  {
   "cell_type": "markdown",
   "id": "3ea42efd",
   "metadata": {},
   "source": [
    "**get the score for each model**"
   ]
  },
  {
   "cell_type": "code",
   "execution_count": null,
   "id": "6004ffc2",
   "metadata": {},
   "outputs": [],
   "source": [
    "# score the models\n",
    "print(\"The score of the XG-Boost Regressor in predicting the housing prices is: \", XGB.score(x_train, y_train) * 100, \"%\")\n",
    "print(\"The score of the Decition Tree Regressor in predicting the housing prices is: \", decisiontree.score(x_train, y_train) * 100, \"%\")\n",
    "print(\"The score of the Random Forest Regressor in predicting the housing prices is: \", randomforest.score(x_train, y_train) * 100, \"%\")"
   ]
  },
  {
   "cell_type": "markdown",
   "id": "a710c1c2",
   "metadata": {},
   "source": [
    "### Optimize the models"
   ]
  },
  {
   "cell_type": "code",
   "execution_count": 3,
   "id": "706602dc",
   "metadata": {},
   "outputs": [
    {
     "ename": "NameError",
     "evalue": "name 'X' is not defined",
     "output_type": "error",
     "traceback": [
      "\u001b[0;31m---------------------------------------------------------------------------\u001b[0m",
      "\u001b[0;31mNameError\u001b[0m                                 Traceback (most recent call last)",
      "Cell \u001b[0;32mIn[3], line 4\u001b[0m\n\u001b[1;32m      2\u001b[0m best_score \u001b[38;5;241m=\u001b[39m best_seed \u001b[38;5;241m=\u001b[39m \u001b[38;5;241m0\u001b[39m\n\u001b[1;32m      3\u001b[0m \u001b[38;5;28;01mfor\u001b[39;00m i \u001b[38;5;129;01min\u001b[39;00m \u001b[38;5;28mrange\u001b[39m(\u001b[38;5;241m10000\u001b[39m):\n\u001b[0;32m----> 4\u001b[0m     x_train, x_test, y_train, y_test \u001b[38;5;241m=\u001b[39m split(X, Y, test_size\u001b[38;5;241m=\u001b[39m\u001b[38;5;241m0.2\u001b[39m, random_state\u001b[38;5;241m=\u001b[39mi)\n\u001b[1;32m      5\u001b[0m     XGB\u001b[38;5;241m.\u001b[39mfit(x_train, y_train)\n\u001b[1;32m      6\u001b[0m     score \u001b[38;5;241m=\u001b[39m XGB\u001b[38;5;241m.\u001b[39mscore(x_train, y_train)\n",
      "\u001b[0;31mNameError\u001b[0m: name 'X' is not defined"
     ]
    }
   ],
   "source": [
    "# XG-Boost Regressor\n",
    "best_score = best_seed = 0\n",
    "for i in range(10000):\n",
    "    x_train, x_test, y_train, y_test = split(X, Y, test_size=0.2, random_state=i)\n",
    "    XGB.fit(x_train, y_train)\n",
    "    score = XGB.score(x_train, y_train)\n",
    "    if(score > best_score):\n",
    "        best_score = score\n",
    "        best_Seed = i\n",
    "\n",
    "XGBScore = best_score * 100\n",
    "XGBSeed = best_seed\n",
    "\n",
    "# DecisionTree Regressor\n",
    "best_score = best_seed = 0\n",
    "for i in range(10000):\n",
    "    x_train, x_test, y_train, y_test = split(X, Y, test_size=0.2, random_state=i)\n",
    "    decisiontree.fit(x_train, y_train)\n",
    "    score = decisiontree.score(x_train, y_train)\n",
    "    if(score > best_score):\n",
    "        best_score = score\n",
    "        best_Seed = i\n",
    "\n",
    "decisiontreeScore = best_score * 100\n",
    "decisiontreeSeed = best_seed\n",
    "\n",
    "# RandomForest Regressor\n",
    "best_score = best_seed = 0\n",
    "for i in range(10000):\n",
    "    x_train, x_test, y_train, y_test = split(X, Y, test_size=0.2, random_state=i)\n",
    "    randomforest.fit(x_train, y_train)\n",
    "    score = randomforest.score(x_train, y_train)\n",
    "    if(score > best_score):\n",
    "        best_score = score\n",
    "        best_Seed = i\n",
    "\n",
    "randomforestScore = best_score * 100\n",
    "randomforestSeed = best_seed\n"
   ]
  },
  {
   "cell_type": "code",
   "execution_count": 4,
   "id": "345039b3",
   "metadata": {},
   "outputs": [
    {
     "ename": "NameError",
     "evalue": "name 'XGBScore' is not defined",
     "output_type": "error",
     "traceback": [
      "\u001b[0;31m---------------------------------------------------------------------------\u001b[0m",
      "\u001b[0;31mNameError\u001b[0m                                 Traceback (most recent call last)",
      "Cell \u001b[0;32mIn[4], line 1\u001b[0m\n\u001b[0;32m----> 1\u001b[0m \u001b[38;5;28mprint\u001b[39m(\u001b[38;5;124m\"\u001b[39m\u001b[38;5;124mThe best score for the XG-Boost Regressor is: \u001b[39m\u001b[38;5;132;01m{}\u001b[39;00m\u001b[38;5;124m with the seed value of: \u001b[39m\u001b[38;5;132;01m{}\u001b[39;00m\u001b[38;5;124m\"\u001b[39m\u001b[38;5;241m.\u001b[39mformat(XGBScore, XGBSeed))\n\u001b[1;32m      2\u001b[0m \u001b[38;5;28mprint\u001b[39m(\u001b[38;5;124m\"\u001b[39m\u001b[38;5;124mThe best score for the DecisionTree Regressor is: \u001b[39m\u001b[38;5;132;01m{}\u001b[39;00m\u001b[38;5;124m with the seed value of: \u001b[39m\u001b[38;5;132;01m{}\u001b[39;00m\u001b[38;5;124m\"\u001b[39m\u001b[38;5;241m.\u001b[39mformat(decisiontreeScore, decisiontreeSeed))\n\u001b[1;32m      3\u001b[0m \u001b[38;5;28mprint\u001b[39m(\u001b[38;5;124m\"\u001b[39m\u001b[38;5;124mThe best score for the RandomForest Regressor is: \u001b[39m\u001b[38;5;132;01m{}\u001b[39;00m\u001b[38;5;124m with the seed value of: \u001b[39m\u001b[38;5;132;01m{}\u001b[39;00m\u001b[38;5;124m\"\u001b[39m\u001b[38;5;241m.\u001b[39mformat(randomforestScore, randomforestSeed))\n",
      "\u001b[0;31mNameError\u001b[0m: name 'XGBScore' is not defined"
     ]
    }
   ],
   "source": [
    "print(\"The best score for the XG-Boost Regressor is: {} with the seed value of: {}\".format(XGBScore, XGBSeed))\n",
    "print(\"The best score for the DecisionTree Regressor is: {} with the seed value of: {}\".format(decisiontreeScore, decisiontreeSeed))\n",
    "print(\"The best score for the RandomForest Regressor is: {} with the seed value of: {}\".format(randomforestScore, randomforestSeed))"
   ]
  },
  {
   "cell_type": "code",
   "execution_count": null,
   "id": "9b4a9165",
   "metadata": {},
   "outputs": [],
   "source": []
  },
  {
   "cell_type": "code",
   "execution_count": null,
   "id": "797b889f",
   "metadata": {},
   "outputs": [],
   "source": []
  }
 ],
 "metadata": {
  "kernelspec": {
   "display_name": "Python 3 (ipykernel)",
   "language": "python",
   "name": "python3"
  },
  "language_info": {
   "codemirror_mode": {
    "name": "ipython",
    "version": 3
   },
   "file_extension": ".py",
   "mimetype": "text/x-python",
   "name": "python",
   "nbconvert_exporter": "python",
   "pygments_lexer": "ipython3",
   "version": "3.11.3"
  }
 },
 "nbformat": 4,
 "nbformat_minor": 5
}
